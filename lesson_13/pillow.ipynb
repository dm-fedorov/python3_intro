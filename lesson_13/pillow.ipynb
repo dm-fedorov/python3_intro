{
 "cells": [
  {
   "cell_type": "markdown",
   "metadata": {},
   "source": [
    "Pillow — библиотека языка Python (версии 3), предназначенная для работы с растровой графикой. "
   ]
  },
  {
   "cell_type": "markdown",
   "metadata": {},
   "source": [
    "Открываем изображение для просмотра:"
   ]
  },
  {
   "cell_type": "code",
   "execution_count": 1,
   "metadata": {},
   "outputs": [],
   "source": [
    "from PIL import Image\n",
    " \n",
    "image = Image.open('cat.jpg')\n",
    "image.show()"
   ]
  },
  {
   "cell_type": "markdown",
   "metadata": {},
   "source": [
    "Здесь импортируем модуль Image и просим его открыть наш файл. В ОС Unix метод open сохраняет изображения во временный файл PPM и открывает его с помощью утилиты xv (или ImageMagick). В Windows он сохранит изображение как временный BMP и откроет его в чем-то вроде Paint."
   ]
  },
  {
   "cell_type": "markdown",
   "metadata": {},
   "source": [
    "Вы можете получить много информации об изображении, используя Pillow. \n",
    "\n",
    "Давайте рассмотрим лишь несколько небольших примеров того, что мы можем извлечь:"
   ]
  },
  {
   "cell_type": "code",
   "execution_count": 2,
   "metadata": {},
   "outputs": [
    {
     "name": "stdout",
     "output_type": "stream",
     "text": [
      "(<PIL.Image.Image image mode=L size=840x472 at 0x10838B6D8>, <PIL.Image.Image image mode=L size=840x472 at 0x1080E4CC0>, <PIL.Image.Image image mode=L size=840x472 at 0x10838B710>)\n"
     ]
    }
   ],
   "source": [
    "print(image.split())"
   ]
  },
  {
   "cell_type": "code",
   "execution_count": 3,
   "metadata": {},
   "outputs": [],
   "source": [
    "%matplotlib inline\n",
    "import matplotlib.pyplot as plt"
   ]
  },
  {
   "cell_type": "code",
   "execution_count": 4,
   "metadata": {},
   "outputs": [
    {
     "data": {
      "image/png": "[encoded data removed]",
      "text/plain": [
       "<Figure size 432x288 with 1 Axes>"
      ]
     },
     "metadata": {
      "needs_background": "light"
     },
     "output_type": "display_data"
    }
   ],
   "source": [
    "histogram = image.histogram()\n",
    "plt.plot(histogram) # значения по Y\n",
    "plt.show()"
   ]
  },
  {
   "cell_type": "markdown",
   "metadata": {},
   "source": [
    "В этом примере мы показали, как извлечь значения RGB (красный, зеленый, синий) из изображения. Мы также узнали, как получить гистограмму из изображения."
   ]
  },
  {
   "cell_type": "markdown",
   "metadata": {},
   "source": [
    "## Обрезание картинки"
   ]
  },
  {
   "cell_type": "markdown",
   "metadata": {},
   "source": [
    "Можно обрезать изображения с помощью Pillow. Давайте попробуем обрезать нашу картинку:"
   ]
  },
  {
   "cell_type": "code",
   "execution_count": 5,
   "metadata": {},
   "outputs": [],
   "source": [
    "cropped = image.crop((100, 150, 250, 250))"
   ]
  },
  {
   "cell_type": "code",
   "execution_count": 6,
   "metadata": {},
   "outputs": [],
   "source": [
    "cropped.save('copy_cat.png')"
   ]
  },
  {
   "cell_type": "markdown",
   "metadata": {},
   "source": [
    "Вы заметите, что все, что нам нужно сделать, это открыть изображение и затем вызвать его метод обрезки. Вам нужно будет передать координаты x / y, которые вы хотите обрезать, то есть (x1, y1, x2, y2). В Pillow 0 - это верхний левый пиксель. При увеличении значения x, оно идет вправо. При увеличении значения y вы идете вниз по изображению. "
   ]
  },
  {
   "cell_type": "markdown",
   "metadata": {},
   "source": [
    "## Использование фильтров"
   ]
  },
  {
   "cell_type": "markdown",
   "metadata": {},
   "source": [
    "Существуют различные фильтры, которые вы можете использовать в Pillow, чтобы применить к изображениям. Они содержатся в модуле [ImageFilter](https://pillow.readthedocs.io/en/stable/reference/ImageFilter.html). \n",
    "\n",
    "Давайте посмотрим на пару из них здесь:"
   ]
  },
  {
   "cell_type": "code",
   "execution_count": 7,
   "metadata": {},
   "outputs": [],
   "source": [
    "from PIL import ImageFilter"
   ]
  },
  {
   "cell_type": "code",
   "execution_count": 8,
   "metadata": {},
   "outputs": [],
   "source": [
    "fil = image.filter(ImageFilter.BLUR) # размывание"
   ]
  },
  {
   "cell_type": "code",
   "execution_count": 9,
   "metadata": {},
   "outputs": [],
   "source": [
    "fil.save('blur_cat.png')"
   ]
  },
  {
   "cell_type": "markdown",
   "metadata": {},
   "source": [
    "Вот один из способов повышения резкости (SHARPEN) изображения:"
   ]
  },
  {
   "cell_type": "code",
   "execution_count": 10,
   "metadata": {},
   "outputs": [],
   "source": [
    "sh = image.filter(ImageFilter.SHARPEN) # резкость "
   ]
  },
  {
   "cell_type": "code",
   "execution_count": 11,
   "metadata": {},
   "outputs": [],
   "source": [
    "sh.save('sh_cat.png')"
   ]
  },
  {
   "cell_type": "code",
   "execution_count": null,
   "metadata": {},
   "outputs": [],
   "source": []
  }
 ],
 "metadata": {
  "kernelspec": {
   "display_name": "Python 3",
   "language": "python",
   "name": "python3"
  },
  "language_info": {
   "codemirror_mode": {
    "name": "ipython",
    "version": 3
   },
   "file_extension": ".py",
   "mimetype": "text/x-python",
   "name": "python",
   "nbconvert_exporter": "python",
   "pygments_lexer": "ipython3",
   "version": "3.8.3"
  }
 },
 "nbformat": 4,
 "nbformat_minor": 4
}
