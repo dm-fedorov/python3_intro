{
 "cells": [
  {
   "cell_type": "markdown",
   "metadata": {},
   "source": [
    "### Извлечение веб-данных с помощью модуля Beautiful Soup"
   ]
  },
  {
   "cell_type": "markdown",
   "metadata": {},
   "source": [
    "1) Загрузка веб-страницы\n",
    "\n",
    "2) Получение данных"
   ]
  },
  {
   "cell_type": "code",
   "execution_count": 1,
   "metadata": {},
   "outputs": [],
   "source": [
    "# импортируем Beautiful Soup\n",
    "import bs4"
   ]
  },
  {
   "cell_type": "code",
   "execution_count": 2,
   "metadata": {},
   "outputs": [],
   "source": [
    "def read_url(url):\n",
    "    \"\"\" Читает содержимое сайта \"\"\"\n",
    "    import urllib.request    \n",
    "    with urllib.request.urlopen(url) as webpage:\n",
    "        text = webpage.read().decode('utf-8')\n",
    "    return text"
   ]
  },
  {
   "cell_type": "code",
   "execution_count": 3,
   "metadata": {},
   "outputs": [
    {
     "name": "stdout",
     "output_type": "stream",
     "text": [
      "<!DOCTYPE HTML PUBLIC \"-//IETF//DTD HTML//EN\">\n",
      "<html> <head>\n",
      "<title>Title</title>\n",
      "</head>\n",
      "\n",
      "<body>\n",
      "<h1>Heading 1</h1>\n",
      "\n",
      "This is plan text, and is boring\n",
      "<span class=\"special\">this is special</span>\n",
      "\n",
      "Here is a <a href=\"http://bitbucket.dev.null\">link</a>\n",
      "\n",
      "<hr>\n",
      "<address>Ann Address, Somewhere, AState 00000\n",
      "</address>\n",
      "</body> </html>\n",
      "\n"
     ]
    }
   ],
   "source": [
    "text = read_url(\"http://dfedorov.spb.ru/python3/test.html\")\n",
    "print(text)"
   ]
  },
  {
   "cell_type": "code",
   "execution_count": 4,
   "metadata": {},
   "outputs": [],
   "source": [
    "# создадим парсер Beautiful Soup\n",
    "bs = bs4.BeautifulSoup(text, 'html.parser')"
   ]
  },
  {
   "cell_type": "code",
   "execution_count": 5,
   "metadata": {},
   "outputs": [
    {
     "name": "stdout",
     "output_type": "stream",
     "text": [
      "[<a href=\"http://bitbucket.dev.null\">link</a>]\n"
     ]
    }
   ],
   "source": [
    "# найдем все ссылки:\n",
    "a_list = bs('a')\n",
    "print(a_list)"
   ]
  },
  {
   "cell_type": "code",
   "execution_count": 6,
   "metadata": {},
   "outputs": [
    {
     "data": {
      "text/plain": [
       "bs4.element.ResultSet"
      ]
     },
     "execution_count": 6,
     "metadata": {},
     "output_type": "execute_result"
    }
   ],
   "source": [
    "type(a_list)"
   ]
  },
  {
   "cell_type": "code",
   "execution_count": 7,
   "metadata": {},
   "outputs": [
    {
     "data": {
      "text/plain": [
       "'link'"
      ]
     },
     "execution_count": 7,
     "metadata": {},
     "output_type": "execute_result"
    }
   ],
   "source": [
    "# текст по ссылке:\n",
    "a_list[0].text"
   ]
  },
  {
   "cell_type": "code",
   "execution_count": 8,
   "metadata": {},
   "outputs": [
    {
     "data": {
      "text/plain": [
       "'http://bitbucket.dev.null'"
      ]
     },
     "execution_count": 8,
     "metadata": {},
     "output_type": "execute_result"
    }
   ],
   "source": [
    "# содержимое ссылки:\n",
    "a_list[0]['href']"
   ]
  },
  {
   "cell_type": "code",
   "execution_count": 9,
   "metadata": {},
   "outputs": [
    {
     "name": "stdout",
     "output_type": "stream",
     "text": [
      "[<span class=\"special\">this is special</span>]\n",
      "this is special\n",
      "['special']\n"
     ]
    }
   ],
   "source": [
    "# поиск всех элементов с классом CSS 'special':\n",
    "special_list = bs.select('.special')\n",
    "print(special_list)\n",
    "print(special_list[0].text)\n",
    "print(special_list[0]['class'])"
   ]
  },
  {
   "cell_type": "code",
   "execution_count": null,
   "metadata": {},
   "outputs": [],
   "source": []
  }
 ],
 "metadata": {
  "kernelspec": {
   "display_name": "Python 3",
   "language": "python",
   "name": "python3"
  },
  "language_info": {
   "codemirror_mode": {
    "name": "ipython",
    "version": 3
   },
   "file_extension": ".py",
   "mimetype": "text/x-python",
   "name": "python",
   "nbconvert_exporter": "python",
   "pygments_lexer": "ipython3",
   "version": "3.8.3"
  }
 },
 "nbformat": 4,
 "nbformat_minor": 4
}
